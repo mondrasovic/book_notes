{
 "cells": [
  {
   "cell_type": "code",
   "execution_count": 66,
   "metadata": {},
   "outputs": [],
   "source": [
    "import numpy as np\n",
    "from matplotlib import pyplot as plt"
   ]
  },
  {
   "cell_type": "code",
   "execution_count": 75,
   "metadata": {},
   "outputs": [],
   "source": [
    "n_iters = 10_000\n",
    "n_total_samples = 18_300\n",
    "n_top_samples = 11\n",
    "luck_influence = 0.05\n",
    "\n",
    "skill_index, luck_index = 0, 1\n",
    "\n",
    "n_common_indices_vals = []\n",
    "mean_luck_score_vals = []\n",
    "\n",
    "for _ in range(n_iters):\n",
    "    # Indices: skill score, luck score.\n",
    "    skill_luck_scores = np.random.rand(n_total_samples, 2)  # [N,2]\n",
    "    combined_scores = (\n",
    "        (1 - luck_influence) * skill_luck_scores[:, skill_index] +\n",
    "        luck_influence * skill_luck_scores[:, luck_index]\n",
    "    )  # [N,]\n",
    "\n",
    "    order_without_luck_top = np.argsort(\n",
    "        -skill_luck_scores[:, skill_index], kind='stable'\n",
    "    )[:n_top_samples]\n",
    "    order_with_luck_top = np.argsort(\n",
    "        -combined_scores, kind='stable'\n",
    "    )[:n_top_samples]\n",
    "\n",
    "    n_common_indices = len(\n",
    "        np.intersect1d(\n",
    "            order_with_luck_top, order_without_luck_top, assume_unique=True\n",
    "        )\n",
    "    )\n",
    "    n_common_indices_vals.append(n_common_indices)\n",
    "\n",
    "    mean_luck_score = np.mean(\n",
    "        skill_luck_scores[order_with_luck_top, luck_index]\n",
    "    )\n",
    "    mean_luck_score_vals.append(mean_luck_score)"
   ]
  },
  {
   "cell_type": "code",
   "execution_count": 76,
   "metadata": {},
   "outputs": [
    {
     "data": {
      "text/plain": [
       "(1.6104, 0.9479515773582392)"
      ]
     },
     "execution_count": 76,
     "metadata": {},
     "output_type": "execute_result"
    }
   ],
   "source": [
    "mean_n_common_indices = np.mean(n_common_indices_vals)\n",
    "mean_luck_score = np.mean(mean_luck_score_vals)\n",
    "\n",
    "mean_n_common_indices, mean_luck_score"
   ]
  },
  {
   "cell_type": "code",
   "execution_count": 77,
   "metadata": {},
   "outputs": [
    {
     "data": {
      "text/plain": [
       "(array([1.589e+03, 3.344e+03, 3.066e+03, 0.000e+00, 1.465e+03, 4.540e+02,\n",
       "        0.000e+00, 7.600e+01, 5.000e+00, 1.000e+00]),\n",
       " array([0. , 0.7, 1.4, 2.1, 2.8, 3.5, 4.2, 4.9, 5.6, 6.3, 7. ]),\n",
       " <BarContainer object of 10 artists>)"
      ]
     },
     "execution_count": 77,
     "metadata": {},
     "output_type": "execute_result"
    },
    {
     "data": {
      "image/png": "[encoded data removed]",
      "text/plain": [
       "<Figure size 432x288 with 1 Axes>"
      ]
     },
     "metadata": {
      "needs_background": "light"
     },
     "output_type": "display_data"
    }
   ],
   "source": [
    "plt.hist(n_common_indices_vals)"
   ]
  }
 ],
 "metadata": {
  "kernelspec": {
   "display_name": "Python 3.7.9 64-bit (system)",
   "language": "python",
   "name": "python3"
  },
  "language_info": {
   "codemirror_mode": {
    "name": "ipython",
    "version": 3
   },
   "file_extension": ".py",
   "mimetype": "text/x-python",
   "name": "python",
   "nbconvert_exporter": "python",
   "pygments_lexer": "ipython3",
   "version": "3.7.9"
  },
  "orig_nbformat": 4,
  "vscode": {
   "interpreter": {
    "hash": "6351f31de86692874407364854f5094d3f163fba1312531b8f0155613f325233"
   }
  }
 },
 "nbformat": 4,
 "nbformat_minor": 2
}
