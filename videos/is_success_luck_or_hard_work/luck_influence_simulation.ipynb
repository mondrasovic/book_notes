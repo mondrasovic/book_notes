{
 "cells": [
  {
   "cell_type": "code",
   "execution_count": 12,
   "metadata": {},
   "outputs": [],
   "source": [
    "import numpy as np"
   ]
  },
  {
   "cell_type": "code",
   "execution_count": 13,
   "metadata": {},
   "outputs": [],
   "source": [
    "n_iters = 20_000\n",
    "n_total_samples = 18_300\n",
    "n_top_samples = 11\n",
    "luck_influence = 0.05\n",
    "\n",
    "skill_index, luck_index = 0, 1\n",
    "\n",
    "n_common_indices_vals = []\n",
    "mean_luck_score_vals = []\n",
    "\n",
    "for _ in range(n_iters):\n",
    "    # Indices: skill score, luck score.\n",
    "    skill_luck_scores = np.random.rand(n_total_samples, 2)  # [N,2]\n",
    "    combined_scores = (\n",
    "        (1 - luck_influence) * skill_luck_scores[:, skill_index] +\n",
    "        luck_influence * skill_luck_scores[:, luck_index]\n",
    "    )  # [N,]\n",
    "\n",
    "    order_without_luck_top = np.argsort(\n",
    "        -skill_luck_scores[:, skill_index], kind='stable'\n",
    "    )[:n_top_samples]\n",
    "    order_with_luck_top = np.argsort(\n",
    "        -combined_scores, kind='stable'\n",
    "    )[:n_top_samples]\n",
    "\n",
    "    n_common_indices = len(\n",
    "        np.intersect1d(\n",
    "            order_with_luck_top, order_without_luck_top, assume_unique=True\n",
    "        )\n",
    "    )\n",
    "    n_common_indices_vals.append(n_common_indices)\n",
    "\n",
    "    mean_luck_score = np.mean(\n",
    "        skill_luck_scores[order_with_luck_top, luck_index]\n",
    "    )\n",
    "    mean_luck_score_vals.append(mean_luck_score)"
   ]
  },
  {
   "cell_type": "code",
   "execution_count": 15,
   "metadata": {},
   "outputs": [
    {
     "name": "stdout",
     "output_type": "stream",
     "text": [
      "Mean number of samples present in both scenarios: 1.5837.\n",
      "Mean luck score for the chosen samples if luck was involved: 94.8114%.\n"
     ]
    }
   ],
   "source": [
    "mean_n_common_indices = np.mean(n_common_indices_vals)\n",
    "mean_luck_score = np.mean(mean_luck_score_vals)\n",
    "\n",
    "print(f\"Mean number of samples present in both scenarios: {mean_n_common_indices:.4f}.\")\n",
    "print(f\"Mean luck score for the chosen samples if luck was involved: {mean_luck_score:.4%}.\")"
   ]
  }
 ],
 "metadata": {
  "kernelspec": {
   "display_name": "Python 3.7.9 64-bit (system)",
   "language": "python",
   "name": "python3"
  },
  "language_info": {
   "codemirror_mode": {
    "name": "ipython",
    "version": 3
   },
   "file_extension": ".py",
   "mimetype": "text/x-python",
   "name": "python",
   "nbconvert_exporter": "python",
   "pygments_lexer": "ipython3",
   "version": "3.7.9"
  },
  "orig_nbformat": 4,
  "vscode": {
   "interpreter": {
    "hash": "6351f31de86692874407364854f5094d3f163fba1312531b8f0155613f325233"
   }
  }
 },
 "nbformat": 4,
 "nbformat_minor": 2
}
